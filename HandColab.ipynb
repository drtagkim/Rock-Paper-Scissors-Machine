{
 "cells": [
  {
   "cell_type": "code",
   "execution_count": 1,
   "metadata": {},
   "outputs": [],
   "source": [
    "import cv2"
   ]
  },
  {
   "cell_type": "code",
   "execution_count": 5,
   "metadata": {},
   "outputs": [],
   "source": [
    "import matplotlib.pyplot as plt"
   ]
  },
  {
   "cell_type": "code",
   "execution_count": 13,
   "metadata": {},
   "outputs": [],
   "source": [
    "image01 = cv2.imread('image/hand1.jpg')"
   ]
  },
  {
   "cell_type": "code",
   "execution_count": 17,
   "metadata": {},
   "outputs": [],
   "source": [
    "cv2.imshow(\"Image01\",image01)\n",
    "cv2.waitKey(0)\n",
    "cv2.destroyAllWindows()"
   ]
  },
  {
   "cell_type": "code",
   "execution_count": 18,
   "metadata": {},
   "outputs": [],
   "source": [
    "import mediapipe as mp"
   ]
  },
  {
   "cell_type": "code",
   "execution_count": 25,
   "metadata": {},
   "outputs": [],
   "source": [
    "mp_hands=mp.solutions.hands"
   ]
  },
  {
   "cell_type": "code",
   "execution_count": 23,
   "metadata": {},
   "outputs": [],
   "source": [
    "mp_drawing=mp.solutions.drawing_utils"
   ]
  },
  {
   "cell_type": "code",
   "execution_count": 27,
   "metadata": {},
   "outputs": [
    {
     "name": "stdout",
     "output_type": "stream",
     "text": [
      "Multi Handedness ----\n",
      "[classification {\n",
      "  index: 0\n",
      "  score: 0.9999989867210388\n",
      "  label: \"Left\"\n",
      "}\n",
      "]\n",
      "Hand Landmarks ----\n",
      "[landmark {\n",
      "  x: 0.47026535868644714\n",
      "  y: 0.8021093606948853\n",
      "  z: -2.510884587536566e-05\n",
      "}\n",
      "landmark {\n",
      "  x: 0.6753153204917908\n",
      "  y: 0.705122172832489\n",
      "  z: 0.04753301665186882\n",
      "}\n",
      "landmark {\n",
      "  x: 0.7560201287269592\n",
      "  y: 0.6169292330741882\n",
      "  z: 0.13036321103572845\n",
      "}\n",
      "landmark {\n",
      "  x: 0.7597378492355347\n",
      "  y: 0.5232844948768616\n",
      "  z: 0.1868361532688141\n",
      "}\n",
      "landmark {\n",
      "  x: 0.783664345741272\n",
      "  y: 0.45658737421035767\n",
      "  z: 0.25310254096984863\n",
      "}\n",
      "landmark {\n",
      "  x: 0.5725592970848083\n",
      "  y: 0.5358761548995972\n",
      "  z: 0.33663588762283325\n",
      "}\n",
      "landmark {\n",
      "  x: 0.5576205253601074\n",
      "  y: 0.4181119501590729\n",
      "  z: 0.399249404668808\n",
      "}\n",
      "landmark {\n",
      "  x: 0.5344944000244141\n",
      "  y: 0.3554661273956299\n",
      "  z: 0.3999249041080475\n",
      "}\n",
      "landmark {\n",
      "  x: 0.5164927244186401\n",
      "  y: 0.3103017210960388\n",
      "  z: 0.39531928300857544\n",
      "}\n",
      "landmark {\n",
      "  x: 0.46669766306877136\n",
      "  y: 0.5330431461334229\n",
      "  z: 0.30156734585762024\n",
      "}\n",
      "landmark {\n",
      "  x: 0.45943644642829895\n",
      "  y: 0.40435153245925903\n",
      "  z: 0.3637438118457794\n",
      "}\n",
      "landmark {\n",
      "  x: 0.4453434646129608\n",
      "  y: 0.3242824375629425\n",
      "  z: 0.3134743571281433\n",
      "}\n",
      "landmark {\n",
      "  x: 0.43675076961517334\n",
      "  y: 0.26538944244384766\n",
      "  z: 0.2693101465702057\n",
      "}\n",
      "landmark {\n",
      "  x: 0.36924511194229126\n",
      "  y: 0.5457382202148438\n",
      "  z: 0.24925920367240906\n",
      "}\n",
      "landmark {\n",
      "  x: 0.36071664094924927\n",
      "  y: 0.42863625288009644\n",
      "  z: 0.2813817262649536\n",
      "}\n",
      "landmark {\n",
      "  x: 0.36152589321136475\n",
      "  y: 0.34950563311576843\n",
      "  z: 0.2329363226890564\n",
      "}\n",
      "landmark {\n",
      "  x: 0.36441150307655334\n",
      "  y: 0.2857377529144287\n",
      "  z: 0.18707816302776337\n",
      "}\n",
      "landmark {\n",
      "  x: 0.26727527379989624\n",
      "  y: 0.5717171430587769\n",
      "  z: 0.19007177650928497\n",
      "}\n",
      "landmark {\n",
      "  x: 0.25743383169174194\n",
      "  y: 0.4792037606239319\n",
      "  z: 0.18991069495677948\n",
      "}\n",
      "landmark {\n",
      "  x: 0.2687619924545288\n",
      "  y: 0.42078283429145813\n",
      "  z: 0.15110856294631958\n",
      "}\n",
      "landmark {\n",
      "  x: 0.2806764543056488\n",
      "  y: 0.3700309991836548\n",
      "  z: 0.11312556266784668\n",
      "}\n",
      "]\n"
     ]
    }
   ],
   "source": [
    "with mp_hands.Hands(\n",
    "    static_image_mode=True,\n",
    "    max_num_hands=2,\n",
    "    min_detection_confidence=0.7\n",
    ") as hands:\n",
    "    results=hands.process(\n",
    "    cv2.flip(\n",
    "        cv2.cvtColor(image01,cv2.COLOR_BGR2RGB),\n",
    "        1\n",
    "    ))\n",
    "    print(\"Multi Handedness ----\")\n",
    "    print(results.multi_handedness)\n",
    "    annotated_image=cv2.flip(image01.copy(),1)\n",
    "    print(\"Hand Landmarks ----\")\n",
    "    print(results.multi_hand_landmarks)"
   ]
  },
  {
   "cell_type": "code",
   "execution_count": 33,
   "metadata": {},
   "outputs": [
    {
     "data": {
      "text/plain": [
       "landmark {\n",
       "  x: 0.47026535868644714\n",
       "  y: 0.8021093606948853\n",
       "  z: -2.510884587536566e-05\n",
       "}\n",
       "landmark {\n",
       "  x: 0.6753153204917908\n",
       "  y: 0.705122172832489\n",
       "  z: 0.04753301665186882\n",
       "}\n",
       "landmark {\n",
       "  x: 0.7560201287269592\n",
       "  y: 0.6169292330741882\n",
       "  z: 0.13036321103572845\n",
       "}\n",
       "landmark {\n",
       "  x: 0.7597378492355347\n",
       "  y: 0.5232844948768616\n",
       "  z: 0.1868361532688141\n",
       "}\n",
       "landmark {\n",
       "  x: 0.783664345741272\n",
       "  y: 0.45658737421035767\n",
       "  z: 0.25310254096984863\n",
       "}\n",
       "landmark {\n",
       "  x: 0.5725592970848083\n",
       "  y: 0.5358761548995972\n",
       "  z: 0.33663588762283325\n",
       "}\n",
       "landmark {\n",
       "  x: 0.5576205253601074\n",
       "  y: 0.4181119501590729\n",
       "  z: 0.399249404668808\n",
       "}\n",
       "landmark {\n",
       "  x: 0.5344944000244141\n",
       "  y: 0.3554661273956299\n",
       "  z: 0.3999249041080475\n",
       "}\n",
       "landmark {\n",
       "  x: 0.5164927244186401\n",
       "  y: 0.3103017210960388\n",
       "  z: 0.39531928300857544\n",
       "}\n",
       "landmark {\n",
       "  x: 0.46669766306877136\n",
       "  y: 0.5330431461334229\n",
       "  z: 0.30156734585762024\n",
       "}\n",
       "landmark {\n",
       "  x: 0.45943644642829895\n",
       "  y: 0.40435153245925903\n",
       "  z: 0.3637438118457794\n",
       "}\n",
       "landmark {\n",
       "  x: 0.4453434646129608\n",
       "  y: 0.3242824375629425\n",
       "  z: 0.3134743571281433\n",
       "}\n",
       "landmark {\n",
       "  x: 0.43675076961517334\n",
       "  y: 0.26538944244384766\n",
       "  z: 0.2693101465702057\n",
       "}\n",
       "landmark {\n",
       "  x: 0.36924511194229126\n",
       "  y: 0.5457382202148438\n",
       "  z: 0.24925920367240906\n",
       "}\n",
       "landmark {\n",
       "  x: 0.36071664094924927\n",
       "  y: 0.42863625288009644\n",
       "  z: 0.2813817262649536\n",
       "}\n",
       "landmark {\n",
       "  x: 0.36152589321136475\n",
       "  y: 0.34950563311576843\n",
       "  z: 0.2329363226890564\n",
       "}\n",
       "landmark {\n",
       "  x: 0.36441150307655334\n",
       "  y: 0.2857377529144287\n",
       "  z: 0.18707816302776337\n",
       "}\n",
       "landmark {\n",
       "  x: 0.26727527379989624\n",
       "  y: 0.5717171430587769\n",
       "  z: 0.19007177650928497\n",
       "}\n",
       "landmark {\n",
       "  x: 0.25743383169174194\n",
       "  y: 0.4792037606239319\n",
       "  z: 0.18991069495677948\n",
       "}\n",
       "landmark {\n",
       "  x: 0.2687619924545288\n",
       "  y: 0.42078283429145813\n",
       "  z: 0.15110856294631958\n",
       "}\n",
       "landmark {\n",
       "  x: 0.2806764543056488\n",
       "  y: 0.3700309991836548\n",
       "  z: 0.11312556266784668\n",
       "}"
      ]
     },
     "execution_count": 33,
     "metadata": {},
     "output_type": "execute_result"
    }
   ],
   "source": [
    "results.multi_hand_landmarks[0] #Normalized Landmarklist"
   ]
  },
  {
   "cell_type": "code",
   "execution_count": 37,
   "metadata": {
    "scrolled": true
   },
   "outputs": [
    {
     "data": {
      "text/plain": [
       "[[x: 0.47026535868644714\n",
       " y: 0.8021093606948853\n",
       " z: -2.510884587536566e-05\n",
       " , x: 0.6753153204917908\n",
       " y: 0.705122172832489\n",
       " z: 0.04753301665186882\n",
       " , x: 0.7560201287269592\n",
       " y: 0.6169292330741882\n",
       " z: 0.13036321103572845\n",
       " , x: 0.7597378492355347\n",
       " y: 0.5232844948768616\n",
       " z: 0.1868361532688141\n",
       " , x: 0.783664345741272\n",
       " y: 0.45658737421035767\n",
       " z: 0.25310254096984863\n",
       " , x: 0.5725592970848083\n",
       " y: 0.5358761548995972\n",
       " z: 0.33663588762283325\n",
       " , x: 0.5576205253601074\n",
       " y: 0.4181119501590729\n",
       " z: 0.399249404668808\n",
       " , x: 0.5344944000244141\n",
       " y: 0.3554661273956299\n",
       " z: 0.3999249041080475\n",
       " , x: 0.5164927244186401\n",
       " y: 0.3103017210960388\n",
       " z: 0.39531928300857544\n",
       " , x: 0.46669766306877136\n",
       " y: 0.5330431461334229\n",
       " z: 0.30156734585762024\n",
       " , x: 0.45943644642829895\n",
       " y: 0.40435153245925903\n",
       " z: 0.3637438118457794\n",
       " , x: 0.4453434646129608\n",
       " y: 0.3242824375629425\n",
       " z: 0.3134743571281433\n",
       " , x: 0.43675076961517334\n",
       " y: 0.26538944244384766\n",
       " z: 0.2693101465702057\n",
       " , x: 0.36924511194229126\n",
       " y: 0.5457382202148438\n",
       " z: 0.24925920367240906\n",
       " , x: 0.36071664094924927\n",
       " y: 0.42863625288009644\n",
       " z: 0.2813817262649536\n",
       " , x: 0.36152589321136475\n",
       " y: 0.34950563311576843\n",
       " z: 0.2329363226890564\n",
       " , x: 0.36441150307655334\n",
       " y: 0.2857377529144287\n",
       " z: 0.18707816302776337\n",
       " , x: 0.26727527379989624\n",
       " y: 0.5717171430587769\n",
       " z: 0.19007177650928497\n",
       " , x: 0.25743383169174194\n",
       " y: 0.4792037606239319\n",
       " z: 0.18991069495677948\n",
       " , x: 0.2687619924545288\n",
       " y: 0.42078283429145813\n",
       " z: 0.15110856294631958\n",
       " , x: 0.2806764543056488\n",
       " y: 0.3700309991836548\n",
       " z: 0.11312556266784668\n",
       " ]]"
      ]
     },
     "execution_count": 37,
     "metadata": {},
     "output_type": "execute_result"
    }
   ],
   "source": [
    "[(i.landmark) for i in results.multi_hand_landmarks]"
   ]
  },
  {
   "cell_type": "code",
   "execution_count": 39,
   "metadata": {},
   "outputs": [
    {
     "data": {
      "text/plain": [
       "<HandLandmark.INDEX_FINGER_TIP: 8>"
      ]
     },
     "execution_count": 39,
     "metadata": {},
     "output_type": "execute_result"
    }
   ],
   "source": [
    "mp_hands.HandLandmark.INDEX_FINGER_TIP"
   ]
  },
  {
   "cell_type": "code",
   "execution_count": 38,
   "metadata": {},
   "outputs": [
    {
     "name": "stdout",
     "output_type": "stream",
     "text": [
      "0.5164927244186401\n"
     ]
    }
   ],
   "source": [
    "for hand_landmarks in results.multi_hand_landmarks:\n",
    "    \n",
    "    print(hand_landmarks.landmark[mp_hands.HandLandmark.INDEX_FINGER_TIP].x)"
   ]
  },
  {
   "cell_type": "code",
   "execution_count": 40,
   "metadata": {},
   "outputs": [],
   "source": [
    "res=results.multi_hand_landmarks[0]"
   ]
  },
  {
   "cell_type": "code",
   "execution_count": 45,
   "metadata": {
    "scrolled": true
   },
   "outputs": [
    {
     "data": {
      "text/plain": [
       "21"
      ]
     },
     "execution_count": 45,
     "metadata": {},
     "output_type": "execute_result"
    }
   ],
   "source": [
    "len(res.landmark)"
   ]
  },
  {
   "cell_type": "code",
   "execution_count": 47,
   "metadata": {},
   "outputs": [],
   "source": [
    "import numpy as np"
   ]
  },
  {
   "cell_type": "code",
   "execution_count": 54,
   "metadata": {
    "scrolled": true
   },
   "outputs": [
    {
     "data": {
      "text/plain": [
       "[2, 3, 4, 5, 6, 7, 8, 9]"
      ]
     },
     "execution_count": 54,
     "metadata": {},
     "output_type": "execute_result"
    }
   ],
   "source": [
    "np.arange(2,10).tolist()"
   ]
  },
  {
   "cell_type": "code",
   "execution_count": 56,
   "metadata": {},
   "outputs": [],
   "source": [
    "joint = np.zeros((21, 3))"
   ]
  },
  {
   "cell_type": "code",
   "execution_count": 59,
   "metadata": {},
   "outputs": [],
   "source": [
    "for j, lm in enumerate(res.landmark): #landmark data\n",
    "    joint[j] = [lm.x, lm.y, lm.z]"
   ]
  },
  {
   "cell_type": "code",
   "execution_count": 60,
   "metadata": {},
   "outputs": [
    {
     "data": {
      "text/plain": [
       "array([[ 4.70265359e-01,  8.02109361e-01, -2.51088459e-05],\n",
       "       [ 6.75315320e-01,  7.05122173e-01,  4.75330167e-02],\n",
       "       [ 7.56020129e-01,  6.16929233e-01,  1.30363211e-01],\n",
       "       [ 7.59737849e-01,  5.23284495e-01,  1.86836153e-01],\n",
       "       [ 7.83664346e-01,  4.56587374e-01,  2.53102541e-01],\n",
       "       [ 5.72559297e-01,  5.35876155e-01,  3.36635888e-01],\n",
       "       [ 5.57620525e-01,  4.18111950e-01,  3.99249405e-01],\n",
       "       [ 5.34494400e-01,  3.55466127e-01,  3.99924904e-01],\n",
       "       [ 5.16492724e-01,  3.10301721e-01,  3.95319283e-01],\n",
       "       [ 4.66697663e-01,  5.33043146e-01,  3.01567346e-01],\n",
       "       [ 4.59436446e-01,  4.04351532e-01,  3.63743812e-01],\n",
       "       [ 4.45343465e-01,  3.24282438e-01,  3.13474357e-01],\n",
       "       [ 4.36750770e-01,  2.65389442e-01,  2.69310147e-01],\n",
       "       [ 3.69245112e-01,  5.45738220e-01,  2.49259204e-01],\n",
       "       [ 3.60716641e-01,  4.28636253e-01,  2.81381726e-01],\n",
       "       [ 3.61525893e-01,  3.49505633e-01,  2.32936323e-01],\n",
       "       [ 3.64411503e-01,  2.85737753e-01,  1.87078163e-01],\n",
       "       [ 2.67275274e-01,  5.71717143e-01,  1.90071777e-01],\n",
       "       [ 2.57433832e-01,  4.79203761e-01,  1.89910695e-01],\n",
       "       [ 2.68761992e-01,  4.20782834e-01,  1.51108563e-01],\n",
       "       [ 2.80676454e-01,  3.70030999e-01,  1.13125563e-01]])"
      ]
     },
     "execution_count": 60,
     "metadata": {},
     "output_type": "execute_result"
    }
   ],
   "source": [
    "joint"
   ]
  },
  {
   "cell_type": "code",
   "execution_count": 61,
   "metadata": {
    "scrolled": true
   },
   "outputs": [],
   "source": [
    " v1 = joint[[0,1,2,3,0,5,6,7,0,9,10,11,0,13,14,15,0,17,18,19],:] # Parent joint"
   ]
  },
  {
   "cell_type": "code",
   "execution_count": 62,
   "metadata": {},
   "outputs": [
    {
     "data": {
      "text/plain": [
       "array([[ 4.70265359e-01,  8.02109361e-01, -2.51088459e-05],\n",
       "       [ 6.75315320e-01,  7.05122173e-01,  4.75330167e-02],\n",
       "       [ 7.56020129e-01,  6.16929233e-01,  1.30363211e-01],\n",
       "       [ 7.59737849e-01,  5.23284495e-01,  1.86836153e-01],\n",
       "       [ 4.70265359e-01,  8.02109361e-01, -2.51088459e-05],\n",
       "       [ 5.72559297e-01,  5.35876155e-01,  3.36635888e-01],\n",
       "       [ 5.57620525e-01,  4.18111950e-01,  3.99249405e-01],\n",
       "       [ 5.34494400e-01,  3.55466127e-01,  3.99924904e-01],\n",
       "       [ 4.70265359e-01,  8.02109361e-01, -2.51088459e-05],\n",
       "       [ 4.66697663e-01,  5.33043146e-01,  3.01567346e-01],\n",
       "       [ 4.59436446e-01,  4.04351532e-01,  3.63743812e-01],\n",
       "       [ 4.45343465e-01,  3.24282438e-01,  3.13474357e-01],\n",
       "       [ 4.70265359e-01,  8.02109361e-01, -2.51088459e-05],\n",
       "       [ 3.69245112e-01,  5.45738220e-01,  2.49259204e-01],\n",
       "       [ 3.60716641e-01,  4.28636253e-01,  2.81381726e-01],\n",
       "       [ 3.61525893e-01,  3.49505633e-01,  2.32936323e-01],\n",
       "       [ 4.70265359e-01,  8.02109361e-01, -2.51088459e-05],\n",
       "       [ 2.67275274e-01,  5.71717143e-01,  1.90071777e-01],\n",
       "       [ 2.57433832e-01,  4.79203761e-01,  1.89910695e-01],\n",
       "       [ 2.68761992e-01,  4.20782834e-01,  1.51108563e-01]])"
      ]
     },
     "execution_count": 62,
     "metadata": {},
     "output_type": "execute_result"
    }
   ],
   "source": [
    "v1"
   ]
  },
  {
   "cell_type": "code",
   "execution_count": 63,
   "metadata": {},
   "outputs": [],
   "source": [
    "v2 = joint[[1,2,3,4,5,6,7,8,9,10,11,12,13,14,15,16,17,18,19,20],:]"
   ]
  },
  {
   "cell_type": "code",
   "execution_count": 65,
   "metadata": {},
   "outputs": [],
   "source": [
    "v=v2-v1"
   ]
  },
  {
   "cell_type": "code",
   "execution_count": 68,
   "metadata": {
    "scrolled": true
   },
   "outputs": [
    {
     "data": {
      "text/plain": [
       "array([0.23176233, 0.14543762, 0.10941824, 0.09701658, 0.441231  ,\n",
       "       0.13420889, 0.06678153, 0.04883744, 0.40418729, 0.14310894,\n",
       "       0.09558604, 0.07411273, 0.37158299, 0.121727  , 0.09278614,\n",
       "       0.07859796, 0.36114038, 0.09303551, 0.0710418 , 0.06450125])"
      ]
     },
     "execution_count": 68,
     "metadata": {},
     "output_type": "execute_result"
    }
   ],
   "source": [
    "np.linalg.norm(v, axis=1)[:]"
   ]
  },
  {
   "cell_type": "code",
   "execution_count": 69,
   "metadata": {
    "scrolled": true
   },
   "outputs": [
    {
     "data": {
      "text/plain": [
       "array([[0.23176233],\n",
       "       [0.14543762],\n",
       "       [0.10941824],\n",
       "       [0.09701658],\n",
       "       [0.441231  ],\n",
       "       [0.13420889],\n",
       "       [0.06678153],\n",
       "       [0.04883744],\n",
       "       [0.40418729],\n",
       "       [0.14310894],\n",
       "       [0.09558604],\n",
       "       [0.07411273],\n",
       "       [0.37158299],\n",
       "       [0.121727  ],\n",
       "       [0.09278614],\n",
       "       [0.07859796],\n",
       "       [0.36114038],\n",
       "       [0.09303551],\n",
       "       [0.0710418 ],\n",
       "       [0.06450125]])"
      ]
     },
     "execution_count": 69,
     "metadata": {},
     "output_type": "execute_result"
    }
   ],
   "source": [
    "np.linalg.norm(v, axis=1)[:,np.newaxis]"
   ]
  },
  {
   "cell_type": "code",
   "execution_count": 70,
   "metadata": {},
   "outputs": [],
   "source": [
    "v = v / np.linalg.norm(v, axis=1)[:, np.newaxis] #normalize, 길이로 나눈다. Norm"
   ]
  },
  {
   "cell_type": "code",
   "execution_count": 71,
   "metadata": {
    "scrolled": true
   },
   "outputs": [
    {
     "data": {
      "text/plain": [
       "array([[ 0.88474241, -0.41847693,  0.20520214],\n",
       "       [ 0.55491012, -0.60639702,  0.56952385],\n",
       "       [ 0.03397715, -0.8558421 ,  0.51611999],\n",
       "       [ 0.24662275, -0.68748165,  0.68304187],\n",
       "       [ 0.2318376 , -0.60338735,  0.76300395],\n",
       "       [-0.11130985, -0.87746945,  0.46653776],\n",
       "       [-0.34629522, -0.93807106,  0.01011506],\n",
       "       [-0.36860399, -0.92479059, -0.09430513],\n",
       "       [-0.00882684, -0.66569687,  0.74617006],\n",
       "       [-0.05073908, -0.89925626,  0.43446947],\n",
       "       [-0.14743766, -0.83766519, -0.52590794],\n",
       "       [-0.11594088, -0.79464074, -0.59590586],\n",
       "       [-0.27186456, -0.68994315,  0.67087116],\n",
       "       [-0.07006228, -0.96200489,  0.26388988],\n",
       "       [ 0.00872169, -0.85282806, -0.52211899],\n",
       "       [ 0.03671354, -0.81131719, -0.58345225],\n",
       "       [-0.56208083, -0.63795751,  0.52637948],\n",
       "       [-0.10578157, -0.99438788, -0.0017314 ],\n",
       "       [ 0.15945768, -0.82234581, -0.54618735],\n",
       "       [ 0.18471675, -0.78683489, -0.5888723 ]])"
      ]
     },
     "execution_count": 71,
     "metadata": {},
     "output_type": "execute_result"
    }
   ],
   "source": [
    "v"
   ]
  },
  {
   "cell_type": "code",
   "execution_count": null,
   "metadata": {},
   "outputs": [],
   "source": []
  },
  {
   "cell_type": "code",
   "execution_count": null,
   "metadata": {},
   "outputs": [],
   "source": []
  },
  {
   "cell_type": "markdown",
   "metadata": {},
   "source": [
    "https://ita9naiwa.github.io/numeric%20calculation/2018/11/10/Einsum.html"
   ]
  },
  {
   "cell_type": "code",
   "execution_count": 73,
   "metadata": {},
   "outputs": [
    {
     "name": "stdout",
     "output_type": "stream",
     "text": [
      "[[1 4]\n",
      " [2 5]\n",
      " [3 6]]\n"
     ]
    }
   ],
   "source": [
    "import numpy as np\n",
    "#transpose\n",
    "A = np.array([[1,2,3], [4,5,6]])\n",
    "R = np.einsum(\"ij->ji\", A)\n",
    "print(R)"
   ]
  },
  {
   "cell_type": "code",
   "execution_count": 74,
   "metadata": {},
   "outputs": [
    {
     "name": "stdout",
     "output_type": "stream",
     "text": [
      "[1. 1. 1. 1. 1. 1. 1. 1. 1. 1.]\n",
      "10.0\n"
     ]
    }
   ],
   "source": [
    "import numpy as np\n",
    "#trace\n",
    "A = np.eye(10)\n",
    "diag = np.einsum('ii->i', A)\n",
    "trace =np.einsum('ii->', A)\n",
    "print(diag)\n",
    "print(trace)"
   ]
  },
  {
   "cell_type": "code",
   "execution_count": 75,
   "metadata": {},
   "outputs": [
    {
     "name": "stdout",
     "output_type": "stream",
     "text": [
      "21\n"
     ]
    }
   ],
   "source": [
    "import numpy as np\n",
    "#sum\n",
    "A = np.array([[1,2,3], [4,5,6]])\n",
    "R = np.einsum(\"ij->\", A)\n",
    "print(R)"
   ]
  },
  {
   "cell_type": "code",
   "execution_count": 76,
   "metadata": {},
   "outputs": [
    {
     "name": "stdout",
     "output_type": "stream",
     "text": [
      "[ 6 15]\n",
      "[5 7 9]\n"
     ]
    }
   ],
   "source": [
    "import numpy as np\n",
    "\n",
    "A = np.array([[1,2,3], [4,5,6]])\n",
    "row_sum = np.einsum(\"ij->i\", A)\n",
    "col_sum =np.einsum(\"ij->j\", A)\n",
    "print(row_sum)\n",
    "print(col_sum)"
   ]
  },
  {
   "cell_type": "code",
   "execution_count": 77,
   "metadata": {},
   "outputs": [
    {
     "name": "stdout",
     "output_type": "stream",
     "text": [
      "-10101\n",
      "[[    -1    -10   -100]\n",
      " [   -10   -100  -1000]\n",
      " [  -100  -1000 -10000]]\n"
     ]
    }
   ],
   "source": [
    "import numpy as np\n",
    "#dot product, outer product\n",
    "x = np.array([-1, -10, -100])\n",
    "y = np.array([1, 10, 100])\n",
    "dot = np.einsum('i,i->', x, y )\n",
    "outer = np.einsum('i,j->ij', x,y)\n",
    "print(dot)\n",
    "print(outer)"
   ]
  },
  {
   "cell_type": "code",
   "execution_count": 78,
   "metadata": {},
   "outputs": [
    {
     "data": {
      "text/plain": [
       "array([0.8615832 , 0.83177701, 0.94928685, 0.85961831, 0.86639382,\n",
       "       0.99421119, 0.92326806, 0.53226558, 0.99612857, 0.85981224,\n",
       "       0.68203178, 0.99686577, 0.69292364, 0.80180869, 0.99813947])"
      ]
     },
     "execution_count": 78,
     "metadata": {},
     "output_type": "execute_result"
    }
   ],
   "source": [
    "np.einsum('nt,nt->n',\n",
    "        v[[0,1,2,4,5,6,8,9,10,12,13,14,16,17,18],:], \n",
    "        v[[1,2,3,5,6,7,9,10,11,13,14,15,17,18,19],:])"
   ]
  },
  {
   "cell_type": "code",
   "execution_count": 79,
   "metadata": {},
   "outputs": [
    {
     "data": {
      "text/plain": [
       "array([0.8615832 , 0.83177701, 0.94928685, 0.85961831, 0.86639382,\n",
       "       0.99421119, 0.92326806, 0.53226558, 0.99612857, 0.85981224,\n",
       "       0.68203178, 0.99686577, 0.69292364, 0.80180869, 0.99813947])"
      ]
     },
     "execution_count": 79,
     "metadata": {},
     "output_type": "execute_result"
    }
   ],
   "source": [
    "np.einsum('ij,ij->i',\n",
    "        v[[0,1,2,4,5,6,8,9,10,12,13,14,16,17,18],:], \n",
    "        v[[1,2,3,5,6,7,9,10,11,13,14,15,17,18,19],:])"
   ]
  },
  {
   "cell_type": "code",
   "execution_count": 80,
   "metadata": {},
   "outputs": [],
   "source": [
    "def load_model(file_name):\n",
    "    return cv2.ml.KNearest_load(file_name)"
   ]
  },
  {
   "cell_type": "code",
   "execution_count": 81,
   "metadata": {},
   "outputs": [],
   "source": [
    "knn = load_model('hand_recognition_model.xml')"
   ]
  },
  {
   "cell_type": "code",
   "execution_count": 85,
   "metadata": {},
   "outputs": [],
   "source": [
    "joint = np.zeros((21, 3))\n",
    "for j, lm in enumerate(res.landmark): #landmark data\n",
    "    joint[j] = [lm.x, lm.y, lm.z]\n",
    "N=len(res.landmark)\n",
    "v1 = joint[[0,1,2,3,0,5,6,7,0,9,10,11,0,13,14,15,0,17,18,19],:] # Parent joint\n",
    "v2 = joint[[1,2,3,4,5,6,7,8,9,10,11,12,13,14,15,16,17,18,19,20],:] # Child joint\n",
    "v = v2 - v1 # [20,3] #vector (x,y,z)\n",
    "v = v / np.linalg.norm(v, axis=1)[:, np.newaxis] #normalize, 길이로 나눈다. Norm\n",
    "angle = np.arccos(np.einsum('ij,ij->i', #row sum\n",
    "    v[[0,1,2,4,5,6,8,9,10,12,13,14,16,17,18],:], \n",
    "    v[[1,2,3,5,6,7,9,10,11,13,14,15,17,18,19],:])) # [15,]\n",
    "angle = np.degrees(angle) # Convert radian to degree\n",
    "data = np.array([angle], dtype=np.float32)\n",
    "ret, results, neighbours, dist = knn.findNearest(data, 3)\n",
    "idx = int(results[0][0])"
   ]
  },
  {
   "cell_type": "code",
   "execution_count": 86,
   "metadata": {},
   "outputs": [
    {
     "data": {
      "text/plain": [
       "(2.0,\n",
       " array([[2.]], dtype=float32),\n",
       " array([[1., 2., 2.]], dtype=float32),\n",
       " array([[4946.7285, 5111.696 , 5200.9033]], dtype=float32))"
      ]
     },
     "execution_count": 86,
     "metadata": {},
     "output_type": "execute_result"
    }
   ],
   "source": [
    "knn.findNearest(data, 3)"
   ]
  },
  {
   "cell_type": "code",
   "execution_count": 94,
   "metadata": {},
   "outputs": [],
   "source": [
    "_,a,_,_=knn.findNearest(data, 3)"
   ]
  },
  {
   "cell_type": "code",
   "execution_count": 97,
   "metadata": {},
   "outputs": [
    {
     "data": {
      "text/plain": [
       "2.0"
      ]
     },
     "execution_count": 97,
     "metadata": {},
     "output_type": "execute_result"
    }
   ],
   "source": [
    "a[0][0]"
   ]
  }
 ],
 "metadata": {
  "kernelspec": {
   "display_name": "Python 3",
   "language": "python",
   "name": "python3"
  },
  "language_info": {
   "codemirror_mode": {
    "name": "ipython",
    "version": 3
   },
   "file_extension": ".py",
   "mimetype": "text/x-python",
   "name": "python",
   "nbconvert_exporter": "python",
   "pygments_lexer": "ipython3",
   "version": "3.7.1"
  }
 },
 "nbformat": 4,
 "nbformat_minor": 4
}
